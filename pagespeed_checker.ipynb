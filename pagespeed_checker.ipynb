{
 "cells": [
  {
   "cell_type": "code",
   "execution_count": 56,
   "metadata": {},
   "outputs": [],
   "source": [
    "urls = [\n",
    "    \"https://www.thestar.com/\",\n",
    "    \"https://www.theglobeandmail.com/\",\n",
    "    \"https://www.cbc.ca/\",\n",
    "    \"https://nationalpost.com/\",\n",
    "    \"https://globalnews.ca/\",\n",
    "    \"https://www.ctvnews.ca/\",\n",
    "    \"https://www.blogto.com/\",\n",
    "    \"https://www.cp24.com/\",\n",
    "    \"https://www.sportsnet.ca/\",\n",
    "    \"https://www.tsn.ca/\"\n",
    "]"
   ]
  },
  {
   "cell_type": "code",
   "execution_count": 65,
   "metadata": {},
   "outputs": [],
   "source": [
    "import requests\n",
    "import os\n",
    "import json\n",
    "import time\n",
    "import pandas as pd\n",
    "import matplotlib.pyplot as plt \n",
    "from dotenv import load_dotenv\n",
    "load_dotenv()\n",
    "\n",
    "class PageSpeedCollector:\n",
    "    def __init__(self):\n",
    "        self.api_key = os.getenv('API_KEY')\n",
    "        self.data = []\n",
    "    \n",
    "    def request_pagespeed_data(self, urls):\n",
    "        self.data = []\n",
    "        for url in urls:\n",
    "            time.sleep(1)\n",
    "            api_url = f\"https://www.googleapis.com/pagespeedonline/v5/runPagespeed?url={url}&key={self.api_key}&strategy=MOBILE\"\n",
    "            try:\n",
    "                req = requests.get(api_url)\n",
    "                res = req.json()\n",
    "                scores = {\n",
    "                    \"Outlet\": url,\n",
    "                    \"CLS\": res[\"loadingExperience\"][\"metrics\"][\"CUMULATIVE_LAYOUT_SHIFT_SCORE\"][\"percentile\"],\n",
    "                    \"FCP\": res[\"loadingExperience\"][\"metrics\"][\"FIRST_CONTENTFUL_PAINT_MS\"][\"percentile\"]/100,\n",
    "                    \"FID\": res[\"loadingExperience\"][\"metrics\"][\"FIRST_INPUT_DELAY_MS\"][\"percentile\"],\n",
    "                    \"LCP\": res[\"loadingExperience\"][\"metrics\"][\"LARGEST_CONTENTFUL_PAINT_MS\"][\"percentile\"]/100\n",
    "                }\n",
    "                self.data.append(scores)\n",
    "                print(f\"Successfully fetched {url}\")\n",
    "            except:\n",
    "                print(f\"Failed to fetch {url}\")\n",
    "        self.save_to_files()\n",
    "        print(\"Complete. Access via thisobj.data\")\n",
    "    \n",
    "    def save_to_files(self):\n",
    "        with open('data.json', 'w') as outfile:\n",
    "            json.dump(self.data, outfile)\n",
    "        print(f\"data.json updated\")\n",
    "        df = pd.DataFrame(self.data)\n",
    "        df.to_csv(\"data.csv\", index=False)\n",
    "        print(f\"data.csv updated\")\n",
    "    \n",
    "    def load_dataframe_from_json(self):\n",
    "        df = pd.read_json(\"data.json\")\n",
    "        return df\n",
    "    \n",
    "    def plot_data_to_chart(self):\n",
    "        plot_data = [\n",
    "            (i[\"Outlet\"], i[\"CLS\"], i[\"FCP\"], i[\"FID\"], i[\"LCP\"]) for i in self.data\n",
    "        ]\n",
    "        df=pd.DataFrame(plot_data,columns=[\"Outlet\", \"CLS\",\"FCP\",\"FID\",\"LCP\"])\n",
    "        df.plot(x=\"Outlet\", y=[\"CLS\",\"FCP\",\"FID\",\"LCP\"], kind=\"bar\",figsize=(9,8))\n",
    "        plt.show()\n",
    "    \n",
    "       "
   ]
  },
  {
   "cell_type": "code",
   "execution_count": 66,
   "metadata": {},
   "outputs": [
    {
     "name": "stdout",
     "output_type": "stream",
     "text": [
      "Successfully fetched https://www.thestar.com/\n",
      "Successfully fetched https://www.theglobeandmail.com/\n",
      "Successfully fetched https://www.cbc.ca/\n",
      "Successfully fetched https://nationalpost.com/\n",
      "Successfully fetched https://globalnews.ca/\n",
      "Successfully fetched https://www.ctvnews.ca/\n",
      "Successfully fetched https://www.blogto.com/\n",
      "Successfully fetched https://www.cp24.com/\n",
      "Successfully fetched https://www.sportsnet.ca/\n",
      "Failed to fetch https://www.tsn.ca/\n",
      "data.json updated\n",
      "data.csv updated\n",
      "Complete. Access via thisobj.data\n"
     ]
    }
   ],
   "source": [
    "test = PageSpeedCollector()\n",
    "test.request_pagespeed_data(urls)"
   ]
  },
  {
   "cell_type": "code",
   "execution_count": null,
   "metadata": {},
   "outputs": [],
   "source": []
  }
 ],
 "metadata": {
  "kernelspec": {
   "display_name": "Python 3",
   "language": "python",
   "name": "python3"
  },
  "language_info": {
   "codemirror_mode": {
    "name": "ipython",
    "version": 3
   },
   "file_extension": ".py",
   "mimetype": "text/x-python",
   "name": "python",
   "nbconvert_exporter": "python",
   "pygments_lexer": "ipython3",
   "version": "3.8.5"
  }
 },
 "nbformat": 4,
 "nbformat_minor": 4
}
